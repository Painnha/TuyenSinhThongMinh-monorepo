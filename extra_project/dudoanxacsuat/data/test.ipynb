{
 "cells": [
  {
   "cell_type": "code",
   "execution_count": 4,
   "metadata": {},
   "outputs": [
    {
     "name": "stdout",
     "output_type": "stream",
     "text": [
      "Tên trường: YDS - Trường Đại Học Y Dược TPHCM, Mã trường: YDS, Mức điểm đầu vào: Cao\n",
      "Tên trường: SPS - Trường Đại Học Sư Phạm TPHCM, Mã trường: SPS, Mức điểm đầu vào: Trung bình\n",
      "Tên trường: IUH - Trường Đại Học Công Nghiệp TPHCM, Mã trường: IUH, Mức điểm đầu vào: Trung bình\n",
      "Tên trường: GTS - Trường Đại Học Giao Thông Vận Tải TPHCM, Mã trường: GTS, Mức điểm đầu vào: Trung bình\n",
      "Tên trường: TYS - Trường Đại Học Y Khoa Phạm Ngọc Thạch, Mã trường: TYS, Mức điểm đầu vào: Trung bình\n",
      "Tên trường: QST - Trường Đại Học Khoa Học Tự Nhiên TPHCM, Mã trường: QST, Mức điểm đầu vào: Cao\n",
      "Tên trường: QSX - Trường Đại Học Khoa Học Xã Hội và Nhân Văn TPHCM, Mã trường: QSX, Mức điểm đầu vào: Cao\n",
      "Tên trường: QSC - Trường Đại Học Công Nghệ Thông Tin - ĐHQG TPHCM, Mã trường: QSC, Mức điểm đầu vào: Trung bình\n",
      "Tên trường: SGD - Trường Đại Học Sài Gòn, Mã trường: SGD, Mức điểm đầu vào: Trung bình\n",
      "Tên trường: LPS - Trường Đại Học Luật TPHCM, Mã trường: LPS, Mức điểm đầu vào: Cao\n",
      "Tên trường: KSA - Đại Học Kinh Tế TPHCM, Mã trường: KSA, Mức điểm đầu vào: Cao\n",
      "Tên trường: KTA - Trường Đại Học Kiến Trúc Hà Nội, Mã trường: KTA, Mức điểm đầu vào: Cao\n",
      "Tên trường: NLS - Trường Đại Học Nông Lâm TPHCM, Mã trường: NLS, Mức điểm đầu vào: Cao\n",
      "Tên trường: MBS - Trường Đại Học Mở TPHCM, Mã trường: MBS, Mức điểm đầu vào: Thấp\n",
      "Tên trường: VLU - Trường Đại Học Sư Phạm Kỹ Thuật Vĩnh Long, Mã trường: VLU, Mức điểm đầu vào: Thấp\n",
      "Tên trường: NTT - Trường Đại Học Nguyễn Tất Thành, Mã trường: NTT, Mức điểm đầu vào: Thấp\n",
      "Tên trường: HIU - Trường Đại Học Quốc Tế Hồng Bàng, Mã trường: HIU, Mức điểm đầu vào: Trung bình\n",
      "Tên trường: HSU - Trường Đại Học Hoa Sen, Mã trường: HSU, Mức điểm đầu vào: Trung bình\n",
      "Tên trường: DCQ - Trường Đại Học Công Nghệ và Quản Lý Hữu Nghị, Mã trường: DCQ, Mức điểm đầu vào: Thấp\n",
      "Tên trường: QSB - Đại học Bách Khoa TP.HCM, Mã trường: QSB, Mức điểm đầu vào: Cao\n",
      "Tên trường: IUH - Đại học Công nghiệp TP.HCM, Mã trường: IUH, Mức điểm đầu vào: Trung bình\n",
      "Tên trường: QSC - Đại học Công nghệ Thông tin - ĐHQG TP.HCM, Mã trường: QSC, Mức điểm đầu vào: Trung bình\n",
      "Tên trường: GTS - Đại học Giao thông Vận tải TP.HCM, Mã trường: GTS, Mức điểm đầu vào: Trung bình\n",
      "Tên trường: HSU - Đại học Hoa Sen, Mã trường: HSU, Mức điểm đầu vào: Trung bình\n",
      "Tên trường: HVU - Đại học Hùng Vương TP.HCM, Mã trường: HVU, Mức điểm đầu vào: Thấp\n",
      "Tên trường: QST - Đại học Khoa học Tự nhiên - ĐHQG TP.HCM, Mã trường: QST, Mức điểm đầu vào: Cao\n",
      "Tên trường: QSX - Đại học Khoa học Xã hội và Nhân văn - ĐHQG TP.HCM, Mã trường: QSX, Mức điểm đầu vào: Cao\n",
      "Tên trường: KSA - Đại học Kinh tế TP.HCM, Mã trường: KSA, Mức điểm đầu vào: Cao\n",
      "Tên trường: KTA - Đại học Kiến trúc TP.HCM, Mã trường: KTA, Mức điểm đầu vào: Cao\n",
      "Tên trường: LPS - Đại học Luật TP.HCM, Mã trường: LPS, Mức điểm đầu vào: Cao\n",
      "Tên trường: MBS - Đại học Mở TP.HCM, Mã trường: MBS, Mức điểm đầu vào: Thấp\n",
      "Tên trường: NTT - Đại học Nguyễn Tất Thành, Mã trường: NTT, Mức điểm đầu vào: Thấp\n",
      "Tên trường: NLS - Đại học Nông Lâm TP.HCM, Mã trường: NLS, Mức điểm đầu vào: Cao\n",
      "Tên trường: HIU - Đại học Quốc tế Hồng Bàng, Mã trường: HIU, Mức điểm đầu vào: Trung bình\n",
      "Tên trường: SGD - Đại học Sài Gòn, Mã trường: SGD, Mức điểm đầu vào: Trung bình\n",
      "Tên trường: SPK - Đại học Sư phạm Kỹ thuật TP.HCM, Mã trường: SPK, Mức điểm đầu vào: Trung bình\n",
      "Tên trường: SPS - Đại học Sư phạm TP.HCM, Mã trường: SPS, Mức điểm đầu vào: Trung bình\n",
      "Tên trường: UFM - Đại học Tài chính - Marketing, Mã trường: UFM, Mức điểm đầu vào: Trung bình\n",
      "Tên trường: VLU - Đại học Văn Lang, Mã trường: VLU, Mức điểm đầu vào: Thấp\n",
      "Tên trường: YDS - Đại học Y Dược TP.HCM, Mã trường: YDS, Mức điểm đầu vào: Cao\n",
      "Tên trường: TYS - Đại học Y khoa Phạm Ngọc Thạch, Mã trường: TYS, Mức điểm đầu vào: Trung bình\n"
     ]
    }
   ],
   "source": [
    "import pandas as pd\n",
    "\n",
    "# Đọc file CSV\n",
    "df = pd.read_csv('Diemchuan2020_2024_loc.csv')\n",
    "\n",
    "# Lấy các trường khác nhau\n",
    "unique_schools = df[['Trường đại học', 'Mã trường', 'Mức điểm đầu vào']].drop_duplicates()\n",
    "\n",
    "# In ra thông tin\n",
    "for index, row in unique_schools.iterrows():\n",
    "    print(f\"Tên trường: {row['Trường đại học']}, Mã trường: {row['Mã trường']}, Mức điểm đầu vào: {row['Mức điểm đầu vào']}\")"
   ]
  }
 ],
 "metadata": {
  "kernelspec": {
   "display_name": "Python 3",
   "language": "python",
   "name": "python3"
  },
  "language_info": {
   "codemirror_mode": {
    "name": "ipython",
    "version": 3
   },
   "file_extension": ".py",
   "mimetype": "text/x-python",
   "name": "python",
   "nbconvert_exporter": "python",
   "pygments_lexer": "ipython3",
   "version": "3.10.6"
  }
 },
 "nbformat": 4,
 "nbformat_minor": 2
}
